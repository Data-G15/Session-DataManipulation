{
  "cells": [
    {
      "cell_type": "markdown",
      "metadata": {
        "id": "87flRzkEUMIj"
      },
      "source": [
        "# Numpy Arrays"
      ]
    },
    {
      "cell_type": "markdown",
      "metadata": {
        "id": "fRCelVC6UMIm"
      },
      "source": [
        "Las listas de Python son elementos fundamentales y muy útiles pero hay ciertas operaciones que no podemos realizar con ellas."
      ]
    },
    {
      "cell_type": "markdown",
      "metadata": {
        "id": "-4n2QvMRUMIn"
      },
      "source": [
        "Los numpy arrays son conocidos por ser estructuras de datos muy fáciles de emplear al almacenar datos dentro de Python."
      ]
    },
    {
      "cell_type": "markdown",
      "metadata": {
        "id": "8wA2dTMNUMIo"
      },
      "source": [
        "Se les suelen atribuir dos características importantes:\n",
        "- Todos los datos dentro de un numpy array deben ser de un mismo tipo. Si se intenta ingresar un dato de otro tipo, se forzará a ese dato a convertirse en el tipo de dato predominante.\n",
        "- Pueden ser estructuras de una dimensión, de dos dimensiones, incluso de 7 dimensiones. Sin embargo, al menos en análisis de datos, siempre es mejor tratar con información en en forma matricial (dos dimensiones)."
      ]
    },
    {
      "cell_type": "markdown",
      "metadata": {
        "id": "SJPOfHZdUMIo"
      },
      "source": [
        "## Reglas básicas de los Numpy Arrays"
      ]
    },
    {
      "cell_type": "markdown",
      "metadata": {
        "id": "UbX7gHyzUMIp"
      },
      "source": [
        "**Solo pueden contener datos de un mismo tipo**: Si intentamos crear un arreglo de Numpy con datos de distintos tipos, Numpy \"forzará\" a todos los datos a ser de uno mismo."
      ]
    },
    {
      "cell_type": "code",
      "source": [
        "import numpy as np"
      ],
      "metadata": {
        "id": "_EgZdz8gUWki"
      },
      "execution_count": 3,
      "outputs": []
    },
    {
      "cell_type": "code",
      "execution_count": 4,
      "metadata": {
        "id": "EYoNhbfXUMIp",
        "outputId": "7b1c63dc-e7c2-45b0-8380-2c226f9e3780",
        "colab": {
          "base_uri": "https://localhost:8080/"
        }
      },
      "outputs": [
        {
          "output_type": "execute_result",
          "data": {
            "text/plain": [
              "array(['1.0', 'is', 'True'], dtype='<U32')"
            ]
          },
          "metadata": {},
          "execution_count": 4
        }
      ],
      "source": [
        "np.array([1.0, 'is', True])"
      ]
    },
    {
      "cell_type": "markdown",
      "metadata": {
        "id": "5CBYe1KfUMIs"
      },
      "source": [
        "**El operador + tiene un comportamiento diferente**: Si lo empleamos en listas, las concatenará. Si lo empleamos con arreglos, sumará los valores contenidos en ellos."
      ]
    },
    {
      "cell_type": "code",
      "execution_count": 5,
      "metadata": {
        "id": "ucy2NpQ7UMIs"
      },
      "outputs": [],
      "source": [
        "python_list = [1, 2, 3] # Lista\n",
        "numpy_array = np.array([1, 2, 3]) # Arreglo Numpy"
      ]
    },
    {
      "cell_type": "code",
      "execution_count": 6,
      "metadata": {
        "id": "TSR5lFB7UMIt",
        "outputId": "8d66f36c-88b2-4f91-c64f-62bb24688522",
        "colab": {
          "base_uri": "https://localhost:8080/"
        }
      },
      "outputs": [
        {
          "output_type": "execute_result",
          "data": {
            "text/plain": [
              "[1, 2, 3, 1, 2, 3]"
            ]
          },
          "metadata": {},
          "execution_count": 6
        }
      ],
      "source": [
        "# Concatenando listas\n",
        "python_list + python_list"
      ]
    },
    {
      "cell_type": "code",
      "execution_count": 7,
      "metadata": {
        "id": "4itkFy7OUMIu",
        "outputId": "0b419dc7-0e3c-46da-993f-4ebdeb4f0932",
        "colab": {
          "base_uri": "https://localhost:8080/"
        }
      },
      "outputs": [
        {
          "output_type": "execute_result",
          "data": {
            "text/plain": [
              "array([2, 4, 6])"
            ]
          },
          "metadata": {},
          "execution_count": 7
        }
      ],
      "source": [
        "# Sumando arreglos\n",
        "numpy_array + numpy_array"
      ]
    },
    {
      "cell_type": "markdown",
      "metadata": {
        "id": "mdA8Qu1fUMIu"
      },
      "source": [
        "## Problema: Calcular el BMI de un grupo de personas"
      ]
    },
    {
      "cell_type": "markdown",
      "metadata": {
        "id": "fvI9XCzOUMIv"
      },
      "source": [
        "Estamos realizando un estudio sobre la nutrición en un grupo de personas de determinada edad."
      ]
    },
    {
      "cell_type": "markdown",
      "metadata": {
        "id": "NYo4slC-UMIv"
      },
      "source": [
        "Formulando las primeras preguntas, nos hemos dado cuenta que necesitamos conocer el BMI de las personas involucradas. Desafortunadamente, no contamos con ese dato, pero podemos calcularlo a partir de los pesos y estaturas que hallamos en los registros del grupo."
      ]
    },
    {
      "cell_type": "markdown",
      "metadata": {
        "id": "uLjCxjZhUMIv"
      },
      "source": [
        "Intentemos resolver este problema con listas:"
      ]
    },
    {
      "cell_type": "code",
      "execution_count": 8,
      "metadata": {
        "id": "vyve1B41UMIw",
        "outputId": "33a66ad8-b43f-445f-c8b2-01f750057194",
        "colab": {
          "base_uri": "https://localhost:8080/"
        }
      },
      "outputs": [
        {
          "output_type": "execute_result",
          "data": {
            "text/plain": [
              "[1.73, 1.68, 1.71, 1.89, 1.79]"
            ]
          },
          "metadata": {},
          "execution_count": 8
        }
      ],
      "source": [
        "# Generamos una nueva lista con las estaturas de las personas en el grupo\n",
        "height = [1.73, 1.68, 1.71, 1.89, 1.79]\n",
        "height"
      ]
    },
    {
      "cell_type": "code",
      "execution_count": 9,
      "metadata": {
        "id": "D-pngkLTUMIw",
        "outputId": "4111347b-726b-4889-cebd-0e96651abc8c",
        "colab": {
          "base_uri": "https://localhost:8080/"
        }
      },
      "outputs": [
        {
          "output_type": "execute_result",
          "data": {
            "text/plain": [
              "[65.4, 59.2, 63.6, 88.4, 68.7]"
            ]
          },
          "metadata": {},
          "execution_count": 9
        }
      ],
      "source": [
        "# Generamos una nueva lista con los pesos de las personas en el grupo\n",
        "weight = [65.4, 59.2, 63.6, 88.4, 68.7]\n",
        "weight"
      ]
    },
    {
      "cell_type": "markdown",
      "metadata": {
        "id": "rj7y4djqUMIx"
      },
      "source": [
        "Para calcular el BMI, la fórmula es dividir el peso con la estatura, elevada al cuadrado:"
      ]
    },
    {
      "cell_type": "code",
      "execution_count": 10,
      "metadata": {
        "id": "m3dJ7XOIUMIx",
        "outputId": "0665f9c5-a3f1-4287-cee1-b9272177a685",
        "colab": {
          "base_uri": "https://localhost:8080/",
          "height": 200
        }
      },
      "outputs": [
        {
          "output_type": "error",
          "ename": "TypeError",
          "evalue": "ignored",
          "traceback": [
            "\u001b[0;31m---------------------------------------------------------------------------\u001b[0m",
            "\u001b[0;31mTypeError\u001b[0m                                 Traceback (most recent call last)",
            "\u001b[0;32m<ipython-input-10-667a3c803194>\u001b[0m in \u001b[0;36m<module>\u001b[0;34m()\u001b[0m\n\u001b[1;32m      1\u001b[0m \u001b[0;31m# Sin embargo, no es posible realizar operaciones sobre los\u001b[0m\u001b[0;34m\u001b[0m\u001b[0;34m\u001b[0m\u001b[0;34m\u001b[0m\u001b[0m\n\u001b[1;32m      2\u001b[0m \u001b[0;31m# elementos de la lista de esta manera\u001b[0m\u001b[0;34m\u001b[0m\u001b[0;34m\u001b[0m\u001b[0;34m\u001b[0m\u001b[0m\n\u001b[0;32m----> 3\u001b[0;31m \u001b[0mweight\u001b[0m \u001b[0;34m/\u001b[0m \u001b[0mheight\u001b[0m \u001b[0;34m**\u001b[0m \u001b[0;36m2\u001b[0m\u001b[0;34m\u001b[0m\u001b[0;34m\u001b[0m\u001b[0m\n\u001b[0m",
            "\u001b[0;31mTypeError\u001b[0m: unsupported operand type(s) for ** or pow(): 'list' and 'int'"
          ]
        }
      ],
      "source": [
        "# Sin embargo, no es posible realizar operaciones sobre los\n",
        "# elementos de la lista de esta manera\n",
        "weight / height ** 2"
      ]
    },
    {
      "cell_type": "markdown",
      "metadata": {
        "id": "0gbm9iIAUMIx"
      },
      "source": [
        "### Solución: Vamos a convertir nuestras listas en arreglos de Numpy"
      ]
    },
    {
      "cell_type": "code",
      "execution_count": 11,
      "metadata": {
        "id": "A8EYm3QxUMIy"
      },
      "outputs": [],
      "source": [
        "# Importar el paquete numpy como np\n",
        "import numpy as np\n",
        "\n",
        "# Crear 2 array numpy desde height y weight\n",
        "np_height = np.array(height)\n",
        "np_weight = np.array(weight)"
      ]
    },
    {
      "cell_type": "markdown",
      "metadata": {
        "id": "fDf37qckUMIy"
      },
      "source": [
        "Intentemos calcular el BMI de nuevo:"
      ]
    },
    {
      "cell_type": "code",
      "execution_count": 12,
      "metadata": {
        "id": "CnsDKIdpUMIy",
        "outputId": "b8ae7291-0b69-4906-cdac-73194ebe9acc",
        "colab": {
          "base_uri": "https://localhost:8080/"
        }
      },
      "outputs": [
        {
          "output_type": "execute_result",
          "data": {
            "text/plain": [
              "array([21.85171573, 20.97505669, 21.75028214, 24.7473475 , 21.44127836])"
            ]
          },
          "metadata": {},
          "execution_count": 12
        }
      ],
      "source": [
        "bmi = np_weight / np_height ** 2\n",
        "bmi"
      ]
    },
    {
      "cell_type": "markdown",
      "metadata": {
        "id": "G4BEGMBRUMIz"
      },
      "source": [
        "## Muestreo (subsetting)"
      ]
    },
    {
      "cell_type": "markdown",
      "metadata": {
        "id": "Z1-8sWn9UMIz"
      },
      "source": [
        "Tener nuestros datos en arrays de Numpy nos facilita las cosas al momento de consultar datos bajo ciertos criterios"
      ]
    },
    {
      "cell_type": "code",
      "execution_count": null,
      "metadata": {
        "id": "-dZX-jznUMIz"
      },
      "outputs": [],
      "source": [
        "bmi"
      ]
    },
    {
      "cell_type": "code",
      "execution_count": 14,
      "metadata": {
        "id": "c3f05jc9UMIz",
        "outputId": "1bf28ae4-3524-41b8-b74c-adc9324ba2ab",
        "colab": {
          "base_uri": "https://localhost:8080/"
        }
      },
      "outputs": [
        {
          "output_type": "execute_result",
          "data": {
            "text/plain": [
              "20.97505668934241"
            ]
          },
          "metadata": {},
          "execution_count": 14
        }
      ],
      "source": [
        "bmi[1]"
      ]
    },
    {
      "cell_type": "code",
      "execution_count": 15,
      "metadata": {
        "id": "CdkVjeG7UMI0",
        "outputId": "e76475c1-6101-49c5-cdd9-2f6ff930cdb2",
        "colab": {
          "base_uri": "https://localhost:8080/"
        }
      },
      "outputs": [
        {
          "output_type": "execute_result",
          "data": {
            "text/plain": [
              "array([False, False, False,  True, False])"
            ]
          },
          "metadata": {},
          "execution_count": 15
        }
      ],
      "source": [
        "bmi > 23"
      ]
    },
    {
      "cell_type": "code",
      "execution_count": 16,
      "metadata": {
        "id": "bdCDM9rLUMI0",
        "outputId": "bc8434c4-0b43-4742-caa2-31325759e01b",
        "colab": {
          "base_uri": "https://localhost:8080/"
        }
      },
      "outputs": [
        {
          "output_type": "execute_result",
          "data": {
            "text/plain": [
              "array([24.7473475])"
            ]
          },
          "metadata": {},
          "execution_count": 16
        }
      ],
      "source": [
        "bmi[bmi > 23]"
      ]
    },
    {
      "cell_type": "markdown",
      "metadata": {
        "id": "uSSjLTBzUMI1"
      },
      "source": [
        "## Numpy arrays en 2 dimensiones"
      ]
    },
    {
      "cell_type": "markdown",
      "metadata": {
        "id": "RwFiP4fiUMI1"
      },
      "source": [
        "¿Cómo puedo saber si un arreglo de Numpy es de 1 o dos dimensiones?"
      ]
    },
    {
      "cell_type": "markdown",
      "metadata": {
        "id": "_Hk1WHZ2UMI1"
      },
      "source": [
        "| Tables        | Are           | Cool  |\n",
        "| ------------- |:-------------:| -----:|\n",
        "| col 3 is      | right-aligned | $1600 |"
      ]
    },
    {
      "cell_type": "markdown",
      "metadata": {
        "id": "HoRoc_DwUMI1"
      },
      "source": [
        "| Tables        | Are           | Cool |\n",
        "|---------------|---------------|------|\n",
        "| col 3 is      | right-aligned | 1600 |\n",
        "| col 2 is      | centered      |   12 |\n",
        "| zebra stripes | are neat      |    1 |"
      ]
    },
    {
      "cell_type": "code",
      "execution_count": 17,
      "metadata": {
        "id": "_0Yukv66UMI1",
        "outputId": "124083c3-3990-461f-d8f2-b93e3698bbdf",
        "colab": {
          "base_uri": "https://localhost:8080/"
        }
      },
      "outputs": [
        {
          "output_type": "execute_result",
          "data": {
            "text/plain": [
              "numpy.ndarray"
            ]
          },
          "metadata": {},
          "execution_count": 17
        }
      ],
      "source": [
        "# Este es de una sola dimensión (arreglo)\n",
        "type(np_height)"
      ]
    },
    {
      "cell_type": "markdown",
      "metadata": {
        "id": "puSUMxHvUMI1"
      },
      "source": [
        "Mira la principal diferencia, ahora, en lugar de utilizar un solo par de corchetes [], utilizamos pares de corchetes dentro de uno principal [[], [], [], ...]"
      ]
    },
    {
      "cell_type": "markdown",
      "metadata": {
        "id": "DxvcmniIUMI2"
      },
      "source": [
        "Cada par interno podemos decir que es una \"dimensión\""
      ]
    },
    {
      "cell_type": "code",
      "execution_count": 18,
      "metadata": {
        "id": "Jpyg8iwHUMI2",
        "outputId": "ab5cdc7d-307e-4227-aa84-0bdb13751c2f",
        "colab": {
          "base_uri": "https://localhost:8080/"
        }
      },
      "outputs": [
        {
          "output_type": "execute_result",
          "data": {
            "text/plain": [
              "array([[ 1.73,  1.68,  1.71,  1.89,  1.79],\n",
              "       [65.4 , 59.2 , 63.6 , 88.4 , 68.7 ]])"
            ]
          },
          "metadata": {},
          "execution_count": 18
        }
      ],
      "source": [
        "np_2d = np.array([[1.73, 1.68, 1.71, 1.89, 1.79],\n",
        "[65.4, 59.2, 63.6, 88.4, 68.7]])\n",
        "\n",
        "np_2d"
      ]
    },
    {
      "cell_type": "code",
      "execution_count": 19,
      "metadata": {
        "id": "Ne_wIBPIUMI2",
        "outputId": "9e595541-3f8a-4971-d4d8-f8563101340b",
        "colab": {
          "base_uri": "https://localhost:8080/"
        }
      },
      "outputs": [
        {
          "output_type": "execute_result",
          "data": {
            "text/plain": [
              "(2, 5)"
            ]
          },
          "metadata": {},
          "execution_count": 19
        }
      ],
      "source": [
        "np_2d.shape"
      ]
    },
    {
      "cell_type": "markdown",
      "metadata": {
        "id": "id7s6DWAUMI2"
      },
      "source": [
        "Recuerda, si intentas introducir un valor de un tipo distinto, podrías estar alterando el tipo de todos los elementos en el arreglo"
      ]
    },
    {
      "cell_type": "code",
      "execution_count": 20,
      "metadata": {
        "id": "F1S79V9qUMI3",
        "outputId": "e1aaa110-6212-47df-d7fe-852fbe02cc57",
        "colab": {
          "base_uri": "https://localhost:8080/"
        }
      },
      "outputs": [
        {
          "output_type": "execute_result",
          "data": {
            "text/plain": [
              "array([['1.73', '1.68', '1.71', '1.89', '1.79'],\n",
              "       ['65.4', '59.2', '63.6', '88.4', '68.7']], dtype='<U32')"
            ]
          },
          "metadata": {},
          "execution_count": 20
        }
      ],
      "source": [
        "np.array([[1.73, 1.68, 1.71, 1.89, 1.79],\n",
        "[65.4, 59.2, 63.6, 88.4, \"68.7\"]])"
      ]
    },
    {
      "cell_type": "markdown",
      "metadata": {
        "id": "TRcuS_54UMI3"
      },
      "source": [
        "## Muestreo en 2 dimensiones"
      ]
    },
    {
      "cell_type": "code",
      "execution_count": 21,
      "metadata": {
        "id": "7PRqwgS1UMI3",
        "outputId": "b9e326bb-4b61-49b3-b4b2-33c5a4f87efd",
        "colab": {
          "base_uri": "https://localhost:8080/"
        }
      },
      "outputs": [
        {
          "output_type": "execute_result",
          "data": {
            "text/plain": [
              "array([1.73, 1.68, 1.71, 1.89, 1.79])"
            ]
          },
          "metadata": {},
          "execution_count": 21
        }
      ],
      "source": [
        "# Una fila completa\n",
        "np_2d[0]"
      ]
    },
    {
      "cell_type": "code",
      "execution_count": 22,
      "metadata": {
        "id": "qxliKURhUMI3",
        "outputId": "34b25e04-5d08-449b-f6f8-2cf07229bc59",
        "colab": {
          "base_uri": "https://localhost:8080/"
        }
      },
      "outputs": [
        {
          "output_type": "execute_result",
          "data": {
            "text/plain": [
              "1.71"
            ]
          },
          "metadata": {},
          "execution_count": 22
        }
      ],
      "source": [
        "# El elemento en la primera fila, segunda columna\n",
        "np_2d[0][2]"
      ]
    },
    {
      "cell_type": "code",
      "execution_count": 23,
      "metadata": {
        "id": "SOFOqBM_UMI3",
        "outputId": "232b8cb9-fa8f-495a-fb3d-a10df198cfbc",
        "colab": {
          "base_uri": "https://localhost:8080/"
        }
      },
      "outputs": [
        {
          "output_type": "execute_result",
          "data": {
            "text/plain": [
              "1.71"
            ]
          },
          "metadata": {},
          "execution_count": 23
        }
      ],
      "source": [
        "# El elemento en la primera fila, segunda columna con notación de coma\n",
        "np_2d[0,2]"
      ]
    },
    {
      "cell_type": "code",
      "execution_count": 24,
      "metadata": {
        "id": "aKVrfaqRUMI3",
        "outputId": "83876f4f-dde6-4804-d333-ca2ab1e33434",
        "colab": {
          "base_uri": "https://localhost:8080/"
        }
      },
      "outputs": [
        {
          "output_type": "execute_result",
          "data": {
            "text/plain": [
              "array([[ 1.68,  1.71],\n",
              "       [59.2 , 63.6 ]])"
            ]
          },
          "metadata": {},
          "execution_count": 24
        }
      ],
      "source": [
        "# Los elementos de todas las filas pero en las columnas 1, 2\n",
        "np_2d[:,1:3]"
      ]
    },
    {
      "cell_type": "code",
      "execution_count": 25,
      "metadata": {
        "id": "f-K4FRqUUMI4",
        "outputId": "d6dddd7d-fd10-4ce9-8c3b-885a6c786b47",
        "colab": {
          "base_uri": "https://localhost:8080/"
        }
      },
      "outputs": [
        {
          "output_type": "execute_result",
          "data": {
            "text/plain": [
              "array([65.4, 59.2, 63.6, 88.4, 68.7])"
            ]
          },
          "metadata": {},
          "execution_count": 25
        }
      ],
      "source": [
        "# Los elementos de la segunda fila pero todas las columnas (¿no te suena familiar?)\n",
        "np_2d[1,:]"
      ]
    },
    {
      "cell_type": "markdown",
      "metadata": {
        "id": "So3qFoD-UMI4"
      },
      "source": [
        "## Estadística básica con Numpy"
      ]
    },
    {
      "cell_type": "markdown",
      "metadata": {
        "id": "CpNwfcQyUMI4"
      },
      "source": [
        "FIFA nos ha proveído amablemente de una base de datos con todo tipo de métricas acerca de jugadores en todos los equipos del mundo. Nosotros, la hemos pedido pues tenemos una corazonada: Creemos que los jugadores que juegan en la posición de portero, tienen en general una estatura mayor que el resto de jugadores, pero nadie nos cree :("
      ]
    },
    {
      "cell_type": "markdown",
      "metadata": {
        "id": "cF7DjNmAUMI4"
      },
      "source": [
        "Utilizaremos [estos datos](https://assets.datacamp.com/production/repositories/288/datasets/026a5211b906ac118a09b1a0dbf7df48faafb379/fifa.csv) para comprobarlo:"
      ]
    },
    {
      "cell_type": "code",
      "execution_count": 26,
      "metadata": {
        "id": "d8HE8lmQUMI4",
        "outputId": "efc505dd-cad1-4032-a014-6abb1066ec52",
        "colab": {
          "base_uri": "https://localhost:8080/"
        }
      },
      "outputs": [
        {
          "output_type": "execute_result",
          "data": {
            "text/plain": [
              "Index(['id', ' name', ' rating', ' position', ' height', ' foot', ' rare',\n",
              "       ' pace', ' shooting', ' passing', ' dribbling', ' defending',\n",
              "       ' heading', ' diving', ' handling', ' kicking', ' reflexes', ' speed',\n",
              "       ' positioning'],\n",
              "      dtype='object')"
            ]
          },
          "metadata": {},
          "execution_count": 26
        }
      ],
      "source": [
        "# Importamos nuestros datos\n",
        "import pandas as pd\n",
        "data = pd.read_csv(\"https://assets.datacamp.com/production/repositories/288/datasets/026a5211b906ac118a09b1a0dbf7df48faafb379/fifa.csv\") \n",
        "# Mostramos las columnas con las que contamos \n",
        "data.columns"
      ]
    },
    {
      "cell_type": "code",
      "execution_count": 27,
      "metadata": {
        "id": "Jm-uTPxAUMI5",
        "outputId": "7f3f7d8e-7e2b-42fa-fb4b-3b385a0cadeb",
        "colab": {
          "base_uri": "https://localhost:8080/"
        }
      },
      "outputs": [
        {
          "output_type": "execute_result",
          "data": {
            "text/plain": [
              "array([' GK', ' M', ' A', ..., ' D', ' D', ' M'], dtype=object)"
            ]
          },
          "metadata": {},
          "execution_count": 27
        }
      ],
      "source": [
        "# Convertimos las columnas a Numpy Arrays\n",
        "np_positions = np.array(data[' position'])\n",
        "np_heights = np.array(data[' height'])\n",
        "np_positions"
      ]
    },
    {
      "cell_type": "code",
      "execution_count": 28,
      "metadata": {
        "id": "Bnzqfd7iUMI5"
      },
      "outputs": [],
      "source": [
        "# Heights de los goalkeepers (porteros): gk_heights\n",
        "gk_heights = np_heights[np_positions == ' GK']\n",
        "\n",
        "# Heights de los demás jugadores: other_heights\n",
        "other_heights = np_heights[np_positions != ' GK']"
      ]
    },
    {
      "cell_type": "code",
      "execution_count": 29,
      "metadata": {
        "id": "L4eO2EBSUMI5",
        "outputId": "6b6a16d1-a0a4-46c5-cd8a-a7837cb60a42",
        "colab": {
          "base_uri": "https://localhost:8080/"
        }
      },
      "outputs": [
        {
          "output_type": "stream",
          "name": "stdout",
          "text": [
            "Median height of goalkeepers: 188.0\n",
            "Median height of other players: 181.0\n"
          ]
        }
      ],
      "source": [
        "# Vamos a imprimir la mediana en la estatura de los porteros. Replace 'None'\n",
        "print(\"Median height of goalkeepers: \" + str(np.median(gk_heights)))\n",
        "\n",
        "# Print out the median height of other players. Replace 'None'\n",
        "print(\"Median height of other players: \" + str(np.median(other_heights)))"
      ]
    },
    {
      "cell_type": "markdown",
      "metadata": {
        "id": "uqvLByr9UMI5"
      },
      "source": [
        "# Enlaces:"
      ]
    },
    {
      "cell_type": "markdown",
      "metadata": {
        "id": "z0Za6ETMUMI6"
      },
      "source": [
        "Si tienes dudas sobre el uso de Markdown, puedes consultar el siguiente [link](https://github.com/adam-p/markdown-here/wiki/Markdown-Cheatsheet)"
      ]
    }
  ],
  "metadata": {
    "kernelspec": {
      "display_name": "Python 3",
      "language": "python",
      "name": "python3"
    },
    "language_info": {
      "codemirror_mode": {
        "name": "ipython",
        "version": 3
      },
      "file_extension": ".py",
      "mimetype": "text/x-python",
      "name": "python",
      "nbconvert_exporter": "python",
      "pygments_lexer": "ipython3",
      "version": "3.8.5"
    },
    "colab": {
      "name": "NumpyCode.ipynb",
      "provenance": []
    }
  },
  "nbformat": 4,
  "nbformat_minor": 0
}