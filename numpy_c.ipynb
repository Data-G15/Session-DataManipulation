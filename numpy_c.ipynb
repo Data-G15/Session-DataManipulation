{
  "cells": [
    {
      "cell_type": "markdown",
      "metadata": {
        "id": "MKkO3jmV9-SQ"
      },
      "source": [
        "# Numpy Arrays"
      ]
    },
    {
      "cell_type": "markdown",
      "metadata": {
        "id": "V2LkzS5f9-SU"
      },
      "source": [
        "Las listas de Python son elementos fundamentales y muy útiles pero hay ciertas operaciones que no podemos realizar con ellas."
      ]
    },
    {
      "cell_type": "markdown",
      "metadata": {
        "id": "yggO5qfA9-SV"
      },
      "source": [
        "Los numpy arrays son conocidos por ser estructuras de datos muy fáciles de emplear al almacenar datos dentro de Python."
      ]
    },
    {
      "cell_type": "markdown",
      "metadata": {
        "id": "7m7urixO9-SW"
      },
      "source": [
        "Se les suelen atribuir dos características importantes:\n",
        "- Todos los datos dentro de un numpy array deben ser de un mismo tipo. Si se intenta ingresar un dato de otro tipo, se forzará a ese dato a convertirse en el tipo de dato predominante.\n",
        "- Pueden ser estructuras de una dimensión, de dos dimensiones, incluso de 7 dimensiones. Sin embargo, al menos en análisis de datos, siempre es mejor tratar con información en en forma matricial (dos dimensiones)."
      ]
    },
    {
      "cell_type": "markdown",
      "metadata": {
        "id": "byxso2349-SW"
      },
      "source": [
        "## Reglas básicas de los Numpy Arrays"
      ]
    },
    {
      "cell_type": "markdown",
      "metadata": {
        "id": "VmlZJNjr9-SX"
      },
      "source": [
        "**Solo pueden contener datos de un mismo tipo**: Si intentamos crear un arreglo de Numpy con datos de distintos tipos, Numpy \"forzará\" a todos los datos a ser de uno mismo."
      ]
    },
    {
      "cell_type": "code",
      "execution_count": null,
      "metadata": {
        "id": "gXO0QeQu9-SY",
        "outputId": "0a4ac33d-2699-43fc-ea83-b0e72183891e"
      },
      "outputs": [
        {
          "data": {
            "text/plain": [
              "array(['1.0', 'is', 'True'], dtype='<U32')"
            ]
          },
          "execution_count": 4,
          "metadata": {},
          "output_type": "execute_result"
        }
      ],
      "source": [
        "np.array([1.0, 'is', True])"
      ]
    },
    {
      "cell_type": "markdown",
      "metadata": {
        "id": "7VgewYyz9-Sa"
      },
      "source": [
        "**El operador + tiene un comportamiento diferente**: Si lo empleamos en listas, las concatenará. Si lo empleamos con arreglos, sumará los valores contenidos en ellos."
      ]
    },
    {
      "cell_type": "code",
      "execution_count": null,
      "metadata": {
        "id": "mDed5hK29-Sb"
      },
      "outputs": [],
      "source": [
        "python_list = [1, 2, 3] # Lista\n",
        "numpy_array = np.array([1, 2, 3]) # Arreglo Numpy"
      ]
    },
    {
      "cell_type": "code",
      "execution_count": null,
      "metadata": {
        "id": "gbtF0b849-Sb",
        "outputId": "18e6b414-266a-4e9e-f6b4-1e8c4f556e14"
      },
      "outputs": [
        {
          "data": {
            "text/plain": [
              "[1, 2, 3, 1, 2, 3]"
            ]
          },
          "execution_count": 6,
          "metadata": {},
          "output_type": "execute_result"
        }
      ],
      "source": [
        "# Concatenando listas\n",
        "python_list + python_list"
      ]
    },
    {
      "cell_type": "code",
      "execution_count": null,
      "metadata": {
        "id": "KTm1C-ON9-Sc",
        "outputId": "560ca527-3a07-40b1-ecea-d7ee1145fcb4"
      },
      "outputs": [
        {
          "data": {
            "text/plain": [
              "array([2, 4, 6])"
            ]
          },
          "execution_count": 7,
          "metadata": {},
          "output_type": "execute_result"
        }
      ],
      "source": [
        "# Sumando arreglos\n",
        "numpy_array + numpy_array"
      ]
    },
    {
      "cell_type": "markdown",
      "metadata": {
        "id": "A8JID--H9-Sd"
      },
      "source": [
        "## Problema: Calcular el BMI de un grupo de personas"
      ]
    },
    {
      "cell_type": "markdown",
      "metadata": {
        "id": "8L4wyZ0G9-Sd"
      },
      "source": [
        "Estamos realizando un estudio sobre la nutrición en un grupo de personas de determinada edad."
      ]
    },
    {
      "cell_type": "markdown",
      "metadata": {
        "id": "KNBMiy-d9-Sd"
      },
      "source": [
        "Formulando las primeras preguntas, nos hemos dado cuenta que necesitamos conocer el BMI de las personas involucradas. Desafortunadamente, no contamos con ese dato, pero podemos calcularlo a partir de los pesos y estaturas que hallamos en los registros del grupo."
      ]
    },
    {
      "cell_type": "markdown",
      "metadata": {
        "id": "iQM0VNfB9-Se"
      },
      "source": [
        "Intentemos resolver este problema con listas:"
      ]
    },
    {
      "cell_type": "code",
      "execution_count": null,
      "metadata": {
        "id": "3uUx0LCp9-Se",
        "outputId": "4d1e6e1f-fbbb-4636-c40e-6a3c73a5d901"
      },
      "outputs": [
        {
          "data": {
            "text/plain": [
              "[1.73, 1.68, 1.71, 1.89, 1.79]"
            ]
          },
          "execution_count": 8,
          "metadata": {},
          "output_type": "execute_result"
        }
      ],
      "source": [
        "# Generamos una nueva lista con las estaturas de las personas en el grupo\n",
        "height = [1.73, 1.68, 1.71, 1.89, 1.79]\n",
        "height"
      ]
    },
    {
      "cell_type": "code",
      "execution_count": null,
      "metadata": {
        "id": "zAu2H4E99-Sf",
        "outputId": "a557c4f1-308d-40b0-8835-68f45ce9b2a8"
      },
      "outputs": [
        {
          "data": {
            "text/plain": [
              "[65.4, 59.2, 63.6, 88.4, 68.7]"
            ]
          },
          "execution_count": 9,
          "metadata": {},
          "output_type": "execute_result"
        }
      ],
      "source": [
        "# Generamos una nueva lista con los pesos de las personas en el grupo\n",
        "weight = [65.4, 59.2, 63.6, 88.4, 68.7]\n",
        "weight"
      ]
    },
    {
      "cell_type": "markdown",
      "metadata": {
        "id": "ZyJ840yi9-Sf"
      },
      "source": [
        "Para calcular el BMI, la fórmula es dividir el peso con la estatura, elevada al cuadrado:"
      ]
    },
    {
      "cell_type": "code",
      "execution_count": null,
      "metadata": {
        "id": "uuC2-DZt9-Sf",
        "outputId": "1cd3dd1b-ac31-4efc-96e3-cab57ae22826"
      },
      "outputs": [
        {
          "ename": "TypeError",
          "evalue": "unsupported operand type(s) for ** or pow(): 'list' and 'int'",
          "output_type": "error",
          "traceback": [
            "\u001b[1;31m---------------------------------------------------------------------------\u001b[0m",
            "\u001b[1;31mTypeError\u001b[0m                                 Traceback (most recent call last)",
            "\u001b[1;32m<ipython-input-10-667a3c803194>\u001b[0m in \u001b[0;36m<module>\u001b[1;34m\u001b[0m\n\u001b[0;32m      1\u001b[0m \u001b[1;31m# Sin embargo, no es posible realizar operaciones sobre los\u001b[0m\u001b[1;33m\u001b[0m\u001b[1;33m\u001b[0m\u001b[1;33m\u001b[0m\u001b[0m\n\u001b[0;32m      2\u001b[0m \u001b[1;31m# elementos de la lista de esta manera\u001b[0m\u001b[1;33m\u001b[0m\u001b[1;33m\u001b[0m\u001b[1;33m\u001b[0m\u001b[0m\n\u001b[1;32m----> 3\u001b[1;33m \u001b[0mweight\u001b[0m \u001b[1;33m/\u001b[0m \u001b[0mheight\u001b[0m \u001b[1;33m**\u001b[0m \u001b[1;36m2\u001b[0m\u001b[1;33m\u001b[0m\u001b[1;33m\u001b[0m\u001b[0m\n\u001b[0m",
            "\u001b[1;31mTypeError\u001b[0m: unsupported operand type(s) for ** or pow(): 'list' and 'int'"
          ]
        }
      ],
      "source": [
        "# Sin embargo, no es posible realizar operaciones sobre los\n",
        "# elementos de la lista de esta manera\n",
        "weight / height ** 2"
      ]
    },
    {
      "cell_type": "markdown",
      "metadata": {
        "id": "gt3UjCn59-Sg"
      },
      "source": [
        "### Solución: Vamos a convertir nuestras listas en arreglos de Numpy"
      ]
    },
    {
      "cell_type": "code",
      "execution_count": null,
      "metadata": {
        "id": "sgogu17y9-Sg"
      },
      "outputs": [],
      "source": [
        "# Importar el paquete numpy como np\n",
        "import numpy as np\n",
        "\n",
        "# Crear 2 array numpy desde height y weight\n",
        "np_height = np.array(height)\n",
        "np_weight = np.array(weight)"
      ]
    },
    {
      "cell_type": "markdown",
      "metadata": {
        "id": "Ho8Tv5zE9-Sg"
      },
      "source": [
        "Intentemos calcular el BMI de nuevo:"
      ]
    },
    {
      "cell_type": "code",
      "execution_count": null,
      "metadata": {
        "id": "y1_Np19K9-Sh",
        "outputId": "066cc56e-9d31-4548-bbe7-5573b2daebb8"
      },
      "outputs": [
        {
          "data": {
            "text/plain": [
              "array([21.85171573, 20.97505669, 21.75028214, 24.7473475 , 21.44127836])"
            ]
          },
          "execution_count": 12,
          "metadata": {},
          "output_type": "execute_result"
        }
      ],
      "source": [
        "bmi = np_weight / np_height ** 2\n",
        "bmi"
      ]
    },
    {
      "cell_type": "markdown",
      "metadata": {
        "id": "zRADn6nN9-Sh"
      },
      "source": [
        "## Muestreo (subsetting)"
      ]
    },
    {
      "cell_type": "markdown",
      "metadata": {
        "id": "iMhUHLG99-Sh"
      },
      "source": [
        "Tener nuestros datos en arrays de Numpy nos facilita las cosas al momento de consultar datos bajo ciertos criterios"
      ]
    },
    {
      "cell_type": "code",
      "execution_count": null,
      "metadata": {
        "id": "b0KF_ZRw9-Si",
        "outputId": "09aa2d43-4611-41ca-a31e-713b6ff4d6e0"
      },
      "outputs": [
        {
          "data": {
            "text/plain": [
              "array([21.85171573, 20.97505669, 21.75028214, 24.7473475 , 21.44127836])"
            ]
          },
          "execution_count": 13,
          "metadata": {},
          "output_type": "execute_result"
        }
      ],
      "source": [
        "bmi"
      ]
    },
    {
      "cell_type": "code",
      "execution_count": null,
      "metadata": {
        "id": "najoWysw9-Si",
        "outputId": "de9995da-44aa-43cc-800c-e6f1b53ee043"
      },
      "outputs": [
        {
          "data": {
            "text/plain": [
              "20.97505668934241"
            ]
          },
          "execution_count": 14,
          "metadata": {},
          "output_type": "execute_result"
        }
      ],
      "source": [
        "bmi[1]"
      ]
    },
    {
      "cell_type": "code",
      "execution_count": null,
      "metadata": {
        "id": "KBt3xgw_9-Si",
        "outputId": "f7c7ae5f-a8f8-4b00-bcd4-b76c762cc7b6"
      },
      "outputs": [
        {
          "data": {
            "text/plain": [
              "array([False, False, False,  True, False])"
            ]
          },
          "execution_count": 15,
          "metadata": {},
          "output_type": "execute_result"
        }
      ],
      "source": [
        "bmi > 23"
      ]
    },
    {
      "cell_type": "code",
      "execution_count": null,
      "metadata": {
        "id": "bV9wlV4D9-Sj",
        "outputId": "f6b5d2d1-66f0-479e-ef05-1f50c4bc5aa7"
      },
      "outputs": [
        {
          "data": {
            "text/plain": [
              "array([24.7473475])"
            ]
          },
          "execution_count": 16,
          "metadata": {},
          "output_type": "execute_result"
        }
      ],
      "source": [
        "bmi[bmi > 23]"
      ]
    },
    {
      "cell_type": "markdown",
      "metadata": {
        "id": "Gk7MP7Kq9-Sj"
      },
      "source": [
        "## Numpy arrays en 2 dimensiones"
      ]
    },
    {
      "cell_type": "markdown",
      "metadata": {
        "id": "S_H8jH5M9-Sj"
      },
      "source": [
        "¿Cómo puedo saber si un arreglo de Numpy es de 1 o dos dimensiones?"
      ]
    },
    {
      "cell_type": "markdown",
      "metadata": {
        "id": "AqVd1p_O9-Sj"
      },
      "source": [
        "| Tables        | Are           | Cool  |\n",
        "| ------------- |:-------------:| -----:|\n",
        "| col 3 is      | right-aligned | $1600 |"
      ]
    },
    {
      "cell_type": "markdown",
      "metadata": {
        "id": "9CiaawkY9-Sj"
      },
      "source": [
        "| Tables        | Are           | Cool |\n",
        "|---------------|---------------|------|\n",
        "| col 3 is      | right-aligned | 1600 |\n",
        "| col 2 is      | centered      |   12 |\n",
        "| zebra stripes | are neat      |    1 |"
      ]
    },
    {
      "cell_type": "code",
      "execution_count": null,
      "metadata": {
        "id": "qM9tmHVy9-Sk",
        "outputId": "ce4208a7-d7da-4802-c56a-b4bff5712e81"
      },
      "outputs": [
        {
          "data": {
            "text/plain": [
              "numpy.ndarray"
            ]
          },
          "execution_count": 17,
          "metadata": {},
          "output_type": "execute_result"
        }
      ],
      "source": [
        "# Este es de una sola dimensión (arreglo)\n",
        "type(np_height)"
      ]
    },
    {
      "cell_type": "markdown",
      "metadata": {
        "id": "INLfFgls9-Sk"
      },
      "source": [
        "Mira la principal diferencia, ahora, en lugar de utilizar un solo par de corchetes [], utilizamos pares de corchetes dentro de uno principal [[], [], [], ...]"
      ]
    },
    {
      "cell_type": "markdown",
      "metadata": {
        "id": "eqAxrZO99-Sk"
      },
      "source": [
        "Cada par interno podemos decir que es una \"dimensión\""
      ]
    },
    {
      "cell_type": "code",
      "execution_count": null,
      "metadata": {
        "id": "0fqwEWAm9-Sk",
        "outputId": "b947fede-0293-4f6d-e56a-8478f4f4025a"
      },
      "outputs": [
        {
          "data": {
            "text/plain": [
              "array([[ 1.73,  1.68,  1.71,  1.89,  1.79],\n",
              "       [65.4 , 59.2 , 63.6 , 88.4 , 68.7 ]])"
            ]
          },
          "execution_count": 18,
          "metadata": {},
          "output_type": "execute_result"
        }
      ],
      "source": [
        "np_2d = np.array([[1.73, 1.68, 1.71, 1.89, 1.79],\n",
        "[65.4, 59.2, 63.6, 88.4, 68.7]])\n",
        "\n",
        "np_2d"
      ]
    },
    {
      "cell_type": "code",
      "execution_count": null,
      "metadata": {
        "id": "bBnbZXBx9-Sk",
        "outputId": "62aab13a-1a2f-4701-bb13-9fe8b45dcf35"
      },
      "outputs": [
        {
          "data": {
            "text/plain": [
              "(2, 5)"
            ]
          },
          "execution_count": 19,
          "metadata": {},
          "output_type": "execute_result"
        }
      ],
      "source": [
        "np_2d.shape"
      ]
    },
    {
      "cell_type": "markdown",
      "metadata": {
        "id": "UIDXXDEE9-Sl"
      },
      "source": [
        "Recuerda, si intentas introducir un valor de un tipo distinto, podrías estar alterando el tipo de todos los elementos en el arreglo"
      ]
    },
    {
      "cell_type": "code",
      "execution_count": null,
      "metadata": {
        "id": "p2c8bPsB9-Sl",
        "outputId": "04dd4cf3-c536-4164-fe73-7d4810b34b84"
      },
      "outputs": [
        {
          "data": {
            "text/plain": [
              "array([['1.73', '1.68', '1.71', '1.89', '1.79'],\n",
              "       ['65.4', '59.2', '63.6', '88.4', '68.7']], dtype='<U32')"
            ]
          },
          "execution_count": 21,
          "metadata": {},
          "output_type": "execute_result"
        }
      ],
      "source": [
        "np.array([[1.73, 1.68, 1.71, 1.89, 1.79],\n",
        "[65.4, 59.2, 63.6, 88.4, \"68.7\"]])"
      ]
    },
    {
      "cell_type": "markdown",
      "metadata": {
        "id": "jNvrDdNN9-Sl"
      },
      "source": [
        "## Muestreo en 2 dimensiones"
      ]
    },
    {
      "cell_type": "code",
      "execution_count": null,
      "metadata": {
        "id": "etKmcMIA9-Sl",
        "outputId": "66518881-8834-412f-99d0-7c689863f795"
      },
      "outputs": [
        {
          "data": {
            "text/plain": [
              "array([1.73, 1.68, 1.71, 1.89, 1.79])"
            ]
          },
          "execution_count": 22,
          "metadata": {},
          "output_type": "execute_result"
        }
      ],
      "source": [
        "# Una fila completa\n",
        "np_2d[0]"
      ]
    },
    {
      "cell_type": "code",
      "execution_count": null,
      "metadata": {
        "id": "0PwOa4s99-Sl",
        "outputId": "7cf23105-f13b-4322-c44a-fe55005383e9"
      },
      "outputs": [
        {
          "data": {
            "text/plain": [
              "1.71"
            ]
          },
          "execution_count": 23,
          "metadata": {},
          "output_type": "execute_result"
        }
      ],
      "source": [
        "# El elemento en la primera fila, segunda columna\n",
        "np_2d[0][2]"
      ]
    },
    {
      "cell_type": "code",
      "execution_count": null,
      "metadata": {
        "id": "CCLNXcbu9-Sm",
        "outputId": "5c754a02-0bc0-491e-a5cf-13668185e522"
      },
      "outputs": [
        {
          "data": {
            "text/plain": [
              "1.71"
            ]
          },
          "execution_count": 24,
          "metadata": {},
          "output_type": "execute_result"
        }
      ],
      "source": [
        "# El elemento en la primera fila, segunda columna con notación de coma\n",
        "np_2d[0,2]"
      ]
    },
    {
      "cell_type": "code",
      "execution_count": null,
      "metadata": {
        "id": "EBEal_KC9-Sm",
        "outputId": "3c5b9d10-e088-400c-c58d-0a8eaabe624a"
      },
      "outputs": [
        {
          "data": {
            "text/plain": [
              "array([[ 1.68,  1.71],\n",
              "       [59.2 , 63.6 ]])"
            ]
          },
          "execution_count": 25,
          "metadata": {},
          "output_type": "execute_result"
        }
      ],
      "source": [
        "# Los elementos de todas las filas pero en las columnas 1, 2\n",
        "np_2d[:,1:3]"
      ]
    },
    {
      "cell_type": "code",
      "execution_count": null,
      "metadata": {
        "id": "8t22Nt7y9-Sm",
        "outputId": "0b91bec8-3843-4cd9-cc23-1f1fa7288385"
      },
      "outputs": [
        {
          "data": {
            "text/plain": [
              "array([65.4, 59.2, 63.6, 88.4, 68.7])"
            ]
          },
          "execution_count": 27,
          "metadata": {},
          "output_type": "execute_result"
        }
      ],
      "source": [
        "# Los elementos de la segunda fila pero todas las columnas (¿no te suena familiar?)\n",
        "np_2d[1,:]"
      ]
    },
    {
      "cell_type": "markdown",
      "metadata": {
        "id": "3fgsH-kr9-Sm"
      },
      "source": [
        "## Estadística básica con Numpy"
      ]
    },
    {
      "cell_type": "markdown",
      "metadata": {
        "id": "QjxW1yKG9-Sm"
      },
      "source": [
        "FIFA nos ha proveído amablemente de una base de datos con todo tipo de métricas acerca de jugadores en todos los equipos del mundo. Nosotros, la hemos pedido pues tenemos una corazonada: Creemos que los jugadores que juegan en la posición de portero, tienen en general una estatura mayor que el resto de jugadores, pero nadie nos cree :("
      ]
    },
    {
      "cell_type": "markdown",
      "metadata": {
        "id": "EHZ7DP-Q9-Sn"
      },
      "source": [
        "Utilizaremos [estos datos](https://assets.datacamp.com/production/repositories/288/datasets/026a5211b906ac118a09b1a0dbf7df48faafb379/fifa.csv) para comprobarlo:"
      ]
    },
    {
      "cell_type": "code",
      "execution_count": null,
      "metadata": {
        "id": "TO2rK9xI9-Sn",
        "outputId": "21089c96-97e6-4fb7-eb1a-0dc7a1681027"
      },
      "outputs": [
        {
          "data": {
            "text/plain": [
              "Index(['id', ' name', ' rating', ' position', ' height', ' foot', ' rare',\n",
              "       ' pace', ' shooting', ' passing', ' dribbling', ' defending',\n",
              "       ' heading', ' diving', ' handling', ' kicking', ' reflexes', ' speed',\n",
              "       ' positioning'],\n",
              "      dtype='object')"
            ]
          },
          "execution_count": 42,
          "metadata": {},
          "output_type": "execute_result"
        }
      ],
      "source": [
        "# Importamos nuestros datos\n",
        "import pandas as pd\n",
        "data = pd.read_csv(\"https://assets.datacamp.com/production/repositories/288/datasets/026a5211b906ac118a09b1a0dbf7df48faafb379/fifa.csv\") \n",
        "# Mostramos las columnas con las que contamos \n",
        "data.columns"
      ]
    },
    {
      "cell_type": "code",
      "execution_count": null,
      "metadata": {
        "id": "GJNGk2BC9-Sn",
        "outputId": "1d27f0c0-e404-4599-dd75-e79a4adc2be1"
      },
      "outputs": [
        {
          "data": {
            "text/plain": [
              "array([' GK', ' M', ' A', ..., ' D', ' D', ' M'], dtype=object)"
            ]
          },
          "execution_count": 46,
          "metadata": {},
          "output_type": "execute_result"
        }
      ],
      "source": [
        "# Convertimos las columnas a Numpy Arrays\n",
        "np_positions = np.array(data[' position'])\n",
        "np_heights = np.array(data[' height'])\n",
        "np_positions"
      ]
    },
    {
      "cell_type": "code",
      "execution_count": null,
      "metadata": {
        "id": "vGaB5tOo9-Sn"
      },
      "outputs": [],
      "source": [
        "# Heights de los goalkeepers (porteros): gk_heights\n",
        "gk_heights = np_heights[np_positions == ' GK']\n",
        "\n",
        "# Heights de los demás jugadores: other_heights\n",
        "other_heights = np_heights[np_positions != ' GK']"
      ]
    },
    {
      "cell_type": "markdown",
      "metadata": {
        "id": "ZApo4zq89-Sn"
      },
      "source": [
        "![image.png](attachment:3bcdfa22-e289-440b-aae7-501ad25f6e41.png)"
      ]
    },
    {
      "cell_type": "code",
      "execution_count": null,
      "metadata": {
        "id": "j1ho9lTv9-So",
        "outputId": "2db4683e-0880-4822-ed10-12c60a97f325"
      },
      "outputs": [
        {
          "name": "stdout",
          "output_type": "stream",
          "text": [
            "Median height of goalkeepers: 188.0\n",
            "Median height of other players: 181.0\n"
          ]
        }
      ],
      "source": [
        "# Vamos a imprimir la mediana en la estatura de los porteros. Replace 'None'\n",
        "print(\"Median height of goalkeepers: \" + str(np.median(gk_heights)))\n",
        "\n",
        "# Print out the median height of other players. Replace 'None'\n",
        "print(\"Median height of other players: \" + str(np.median(other_heights)))"
      ]
    },
    {
      "cell_type": "markdown",
      "metadata": {
        "id": "JgSP2JWi9-So"
      },
      "source": [
        "# Enlaces:"
      ]
    },
    {
      "cell_type": "markdown",
      "metadata": {
        "id": "1gRSwv_Z9-So"
      },
      "source": [
        "Si tienes dudas sobre el uso de Markdown, puedes consultar el siguiente [link](https://github.com/adam-p/markdown-here/wiki/Markdown-Cheatsheet)"
      ]
    }
  ],
  "metadata": {
    "kernelspec": {
      "display_name": "Python 3",
      "language": "python",
      "name": "python3"
    },
    "language_info": {
      "codemirror_mode": {
        "name": "ipython",
        "version": 3
      },
      "file_extension": ".py",
      "mimetype": "text/x-python",
      "name": "python",
      "nbconvert_exporter": "python",
      "pygments_lexer": "ipython3",
      "version": "3.8.5"
    },
    "colab": {
      "name": "numpy.ipynb",
      "provenance": []
    }
  },
  "nbformat": 4,
  "nbformat_minor": 0
}