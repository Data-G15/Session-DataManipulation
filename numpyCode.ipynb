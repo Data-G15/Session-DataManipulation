{
  "cells": [
    {
      "cell_type": "markdown",
      "metadata": {
        "id": "b3ukatbhNOut"
      },
      "source": [
        "# Numpy Arrays"
      ]
    },
    {
      "cell_type": "markdown",
      "metadata": {
        "id": "ruev8KlwNOux"
      },
      "source": [
        "Las listas de Python son elementos fundamentales y muy útiles pero hay ciertas operaciones que no podemos realizar con ellas."
      ]
    },
    {
      "cell_type": "markdown",
      "metadata": {
        "id": "WSZSkmEkNOuy"
      },
      "source": [
        "Los numpy arrays son conocidos por ser estructuras de datos muy fáciles de emplear al almacenar datos dentro de Python."
      ]
    },
    {
      "cell_type": "markdown",
      "metadata": {
        "id": "Q463SPijNOuy"
      },
      "source": [
        "Se les suelen atribuir dos características importantes:\n",
        "- Todos los datos dentro de un numpy array deben ser de un mismo tipo. Si se intenta ingresar un dato de otro tipo, se forzará a ese dato a convertirse en el tipo de dato predominante.\n",
        "- Pueden ser estructuras de una dimensión, de dos dimensiones, incluso de 7 dimensiones. Sin embargo, al menos en análisis de datos, siempre es mejor tratar con información en en forma matricial (dos dimensiones)."
      ]
    },
    {
      "cell_type": "markdown",
      "metadata": {
        "id": "ZNaLGUmPNOuz"
      },
      "source": [
        "## Reglas básicas de los Numpy Arrays"
      ]
    },
    {
      "cell_type": "markdown",
      "metadata": {
        "id": "lCwZFFKrNOu0"
      },
      "source": [
        "**Solo pueden contener datos de un mismo tipo**: Si intentamos crear un arreglo de Numpy con datos de distintos tipos, Numpy \"forzará\" a todos los datos a ser de uno mismo."
      ]
    },
    {
      "cell_type": "code",
      "execution_count": null,
      "metadata": {
        "id": "WcisSiQPNOu0",
        "outputId": "0e08e94a-7546-4a7b-960a-9b9eddc3b1df"
      },
      "outputs": [
        {
          "data": {
            "text/plain": [
              "array(['1.0', 'is', 'True'], dtype='<U32')"
            ]
          },
          "execution_count": 4,
          "metadata": {},
          "output_type": "execute_result"
        }
      ],
      "source": [
        "np.array([1.0, 'is', True])"
      ]
    },
    {
      "cell_type": "markdown",
      "metadata": {
        "id": "42Dw7W27NOu3"
      },
      "source": [
        "**El operador + tiene un comportamiento diferente**: Si lo empleamos en listas, las concatenará. Si lo empleamos con arreglos, sumará los valores contenidos en ellos."
      ]
    },
    {
      "cell_type": "code",
      "execution_count": null,
      "metadata": {
        "id": "6XbbemAbNOu4"
      },
      "outputs": [],
      "source": [
        "python_list = [1, 2, 3] # Lista\n",
        "numpy_array = np.array([1, 2, 3]) # Arreglo Numpy"
      ]
    },
    {
      "cell_type": "code",
      "execution_count": null,
      "metadata": {
        "id": "qgyu1q2mNOu4",
        "outputId": "891bac0b-de41-47b0-e576-988f02b732b1"
      },
      "outputs": [
        {
          "data": {
            "text/plain": [
              "[1, 2, 3, 1, 2, 3]"
            ]
          },
          "execution_count": 6,
          "metadata": {},
          "output_type": "execute_result"
        }
      ],
      "source": [
        "# Concatenando listas\n",
        "python_list + python_list"
      ]
    },
    {
      "cell_type": "code",
      "execution_count": null,
      "metadata": {
        "id": "7w1BFUNqNOu5",
        "outputId": "2dd97a64-00e9-4b05-a730-9cf31654b3ac"
      },
      "outputs": [
        {
          "data": {
            "text/plain": [
              "array([2, 4, 6])"
            ]
          },
          "execution_count": 7,
          "metadata": {},
          "output_type": "execute_result"
        }
      ],
      "source": [
        "# Sumando arreglos\n",
        "numpy_array + numpy_array"
      ]
    },
    {
      "cell_type": "markdown",
      "metadata": {
        "id": "Yjcck4JONOu6"
      },
      "source": [
        "## Problema: Calcular el BMI de un grupo de personas"
      ]
    },
    {
      "cell_type": "markdown",
      "metadata": {
        "id": "q76zSp9zNOu6"
      },
      "source": [
        "Estamos realizando un estudio sobre la nutrición en un grupo de personas de determinada edad."
      ]
    },
    {
      "cell_type": "markdown",
      "metadata": {
        "id": "rS72KoLrNOu6"
      },
      "source": [
        "Formulando las primeras preguntas, nos hemos dado cuenta que necesitamos conocer el BMI de las personas involucradas. Desafortunadamente, no contamos con ese dato, pero podemos calcularlo a partir de los pesos y estaturas que hallamos en los registros del grupo."
      ]
    },
    {
      "cell_type": "markdown",
      "metadata": {
        "id": "wNdm6boPNOu7"
      },
      "source": [
        "Intentemos resolver este problema con listas:"
      ]
    },
    {
      "cell_type": "code",
      "execution_count": null,
      "metadata": {
        "id": "TKmlBycgNOu7",
        "outputId": "c2cc1f06-60af-4892-99a1-91d7c4c6285b"
      },
      "outputs": [
        {
          "data": {
            "text/plain": [
              "[1.73, 1.68, 1.71, 1.89, 1.79]"
            ]
          },
          "execution_count": 8,
          "metadata": {},
          "output_type": "execute_result"
        }
      ],
      "source": [
        "# Generamos una nueva lista con las estaturas de las personas en el grupo\n",
        "height = [1.73, 1.68, 1.71, 1.89, 1.79]\n",
        "height"
      ]
    },
    {
      "cell_type": "code",
      "execution_count": null,
      "metadata": {
        "id": "3wyTOhv2NOu8",
        "outputId": "20d6b5e6-6802-4275-bfb2-e35b666ae1af"
      },
      "outputs": [
        {
          "data": {
            "text/plain": [
              "[65.4, 59.2, 63.6, 88.4, 68.7]"
            ]
          },
          "execution_count": 9,
          "metadata": {},
          "output_type": "execute_result"
        }
      ],
      "source": [
        "# Generamos una nueva lista con los pesos de las personas en el grupo\n",
        "weight = [65.4, 59.2, 63.6, 88.4, 68.7]\n",
        "weight"
      ]
    },
    {
      "cell_type": "markdown",
      "metadata": {
        "id": "lN8RjH02NOu8"
      },
      "source": [
        "Para calcular el BMI, la fórmula es dividir el peso con la estatura, elevada al cuadrado:"
      ]
    },
    {
      "cell_type": "code",
      "execution_count": null,
      "metadata": {
        "id": "B5o54XBBNOu8",
        "outputId": "6c97ef04-6ef5-41a2-a799-47582af5b8c3"
      },
      "outputs": [
        {
          "ename": "TypeError",
          "evalue": "unsupported operand type(s) for ** or pow(): 'list' and 'int'",
          "output_type": "error",
          "traceback": [
            "\u001b[1;31m---------------------------------------------------------------------------\u001b[0m",
            "\u001b[1;31mTypeError\u001b[0m                                 Traceback (most recent call last)",
            "\u001b[1;32m<ipython-input-10-667a3c803194>\u001b[0m in \u001b[0;36m<module>\u001b[1;34m\u001b[0m\n\u001b[0;32m      1\u001b[0m \u001b[1;31m# Sin embargo, no es posible realizar operaciones sobre los\u001b[0m\u001b[1;33m\u001b[0m\u001b[1;33m\u001b[0m\u001b[1;33m\u001b[0m\u001b[0m\n\u001b[0;32m      2\u001b[0m \u001b[1;31m# elementos de la lista de esta manera\u001b[0m\u001b[1;33m\u001b[0m\u001b[1;33m\u001b[0m\u001b[1;33m\u001b[0m\u001b[0m\n\u001b[1;32m----> 3\u001b[1;33m \u001b[0mweight\u001b[0m \u001b[1;33m/\u001b[0m \u001b[0mheight\u001b[0m \u001b[1;33m**\u001b[0m \u001b[1;36m2\u001b[0m\u001b[1;33m\u001b[0m\u001b[1;33m\u001b[0m\u001b[0m\n\u001b[0m",
            "\u001b[1;31mTypeError\u001b[0m: unsupported operand type(s) for ** or pow(): 'list' and 'int'"
          ]
        }
      ],
      "source": [
        "# Sin embargo, no es posible realizar operaciones sobre los\n",
        "# elementos de la lista de esta manera\n",
        "weight / height ** 2"
      ]
    },
    {
      "cell_type": "markdown",
      "metadata": {
        "id": "voUm4l5UNOu9"
      },
      "source": [
        "### Solución: Vamos a convertir nuestras listas en arreglos de Numpy"
      ]
    },
    {
      "cell_type": "code",
      "execution_count": null,
      "metadata": {
        "id": "FT9p2uqrNOu9"
      },
      "outputs": [],
      "source": [
        "# Importar el paquete numpy como np\n",
        "import numpy as np\n",
        "\n",
        "# Crear 2 array numpy desde height y weight\n",
        "np_height = np.array(height)\n",
        "np_weight = np.array(weight)"
      ]
    },
    {
      "cell_type": "markdown",
      "metadata": {
        "id": "lHpWuqD2NOu-"
      },
      "source": [
        "Intentemos calcular el BMI de nuevo:"
      ]
    },
    {
      "cell_type": "code",
      "execution_count": null,
      "metadata": {
        "id": "UlGFSkD2NOu-",
        "outputId": "5f6d531c-b05c-4779-f813-19f7393616f0"
      },
      "outputs": [
        {
          "data": {
            "text/plain": [
              "array([21.85171573, 20.97505669, 21.75028214, 24.7473475 , 21.44127836])"
            ]
          },
          "execution_count": 12,
          "metadata": {},
          "output_type": "execute_result"
        }
      ],
      "source": [
        "bmi = np_weight / np_height ** 2\n",
        "bmi"
      ]
    },
    {
      "cell_type": "markdown",
      "metadata": {
        "id": "yZdLIsDzNOu-"
      },
      "source": [
        "## Muestreo (subsetting)"
      ]
    },
    {
      "cell_type": "markdown",
      "metadata": {
        "id": "P8NBw74PNOu-"
      },
      "source": [
        "Tener nuestros datos en arrays de Numpy nos facilita las cosas al momento de consultar datos bajo ciertos criterios"
      ]
    },
    {
      "cell_type": "code",
      "execution_count": null,
      "metadata": {
        "id": "vwCPAmUuNOu_",
        "outputId": "3d4a5649-1d05-4c78-d2a8-66b6d75b465b"
      },
      "outputs": [
        {
          "data": {
            "text/plain": [
              "array([21.85171573, 20.97505669, 21.75028214, 24.7473475 , 21.44127836])"
            ]
          },
          "execution_count": 13,
          "metadata": {},
          "output_type": "execute_result"
        }
      ],
      "source": [
        "bmi"
      ]
    },
    {
      "cell_type": "code",
      "execution_count": null,
      "metadata": {
        "id": "4M7lWBm5NOu_",
        "outputId": "ccb74226-b27c-41f4-d4df-083187afa3c1"
      },
      "outputs": [
        {
          "data": {
            "text/plain": [
              "20.97505668934241"
            ]
          },
          "execution_count": 14,
          "metadata": {},
          "output_type": "execute_result"
        }
      ],
      "source": [
        "bmi[1]"
      ]
    },
    {
      "cell_type": "code",
      "execution_count": null,
      "metadata": {
        "id": "R1b5_0J-NOu_",
        "outputId": "9a962670-aed8-48d7-c934-3a33917fa2b0"
      },
      "outputs": [
        {
          "data": {
            "text/plain": [
              "array([False, False, False,  True, False])"
            ]
          },
          "execution_count": 15,
          "metadata": {},
          "output_type": "execute_result"
        }
      ],
      "source": [
        "bmi > 23"
      ]
    },
    {
      "cell_type": "code",
      "execution_count": null,
      "metadata": {
        "id": "SnWbRTg6NOvA",
        "outputId": "fe47e074-683f-4176-c109-4c65ff845858"
      },
      "outputs": [
        {
          "data": {
            "text/plain": [
              "array([24.7473475])"
            ]
          },
          "execution_count": 16,
          "metadata": {},
          "output_type": "execute_result"
        }
      ],
      "source": [
        "bmi[bmi > 23]"
      ]
    },
    {
      "cell_type": "markdown",
      "metadata": {
        "id": "wo0YlRHYNOvA"
      },
      "source": [
        "## Numpy arrays en 2 dimensiones"
      ]
    },
    {
      "cell_type": "markdown",
      "metadata": {
        "id": "AY6glzsiNOvA"
      },
      "source": [
        "¿Cómo puedo saber si un arreglo de Numpy es de 1 o dos dimensiones?"
      ]
    },
    {
      "cell_type": "markdown",
      "metadata": {
        "id": "Ezpmy1kYNOvB"
      },
      "source": [
        "| Tables        | Are           | Cool  |\n",
        "| ------------- |:-------------:| -----:|\n",
        "| col 3 is      | right-aligned | $1600 |"
      ]
    },
    {
      "cell_type": "markdown",
      "metadata": {
        "id": "2oBAfHLCNOvB"
      },
      "source": [
        "| Tables        | Are           | Cool |\n",
        "|---------------|---------------|------|\n",
        "| col 3 is      | right-aligned | 1600 |\n",
        "| col 2 is      | centered      |   12 |\n",
        "| zebra stripes | are neat      |    1 |"
      ]
    },
    {
      "cell_type": "code",
      "execution_count": null,
      "metadata": {
        "id": "ONTUW8TKNOvB",
        "outputId": "248e4f87-74b4-4f51-a304-661607065709"
      },
      "outputs": [
        {
          "data": {
            "text/plain": [
              "numpy.ndarray"
            ]
          },
          "execution_count": 17,
          "metadata": {},
          "output_type": "execute_result"
        }
      ],
      "source": [
        "# Este es de una sola dimensión (arreglo)\n",
        "type(np_height)"
      ]
    },
    {
      "cell_type": "markdown",
      "metadata": {
        "id": "C-9UstXQNOvB"
      },
      "source": [
        "Mira la principal diferencia, ahora, en lugar de utilizar un solo par de corchetes [], utilizamos pares de corchetes dentro de uno principal [[], [], [], ...]"
      ]
    },
    {
      "cell_type": "markdown",
      "metadata": {
        "id": "WgnQ1DN7NOvB"
      },
      "source": [
        "Cada par interno podemos decir que es una \"dimensión\""
      ]
    },
    {
      "cell_type": "code",
      "execution_count": null,
      "metadata": {
        "id": "wqeprE2_NOvC",
        "outputId": "652196cb-fd48-4294-c04f-d015a7c9d7b2"
      },
      "outputs": [
        {
          "data": {
            "text/plain": [
              "array([[ 1.73,  1.68,  1.71,  1.89,  1.79],\n",
              "       [65.4 , 59.2 , 63.6 , 88.4 , 68.7 ]])"
            ]
          },
          "execution_count": 18,
          "metadata": {},
          "output_type": "execute_result"
        }
      ],
      "source": [
        "np_2d = np.array([[1.73, 1.68, 1.71, 1.89, 1.79],\n",
        "[65.4, 59.2, 63.6, 88.4, 68.7]])\n",
        "\n",
        "np_2d"
      ]
    },
    {
      "cell_type": "code",
      "execution_count": null,
      "metadata": {
        "id": "LFVHWZMtNOvC",
        "outputId": "1417fcad-19fc-44af-98e6-baa4d72ff730"
      },
      "outputs": [
        {
          "data": {
            "text/plain": [
              "(2, 5)"
            ]
          },
          "execution_count": 19,
          "metadata": {},
          "output_type": "execute_result"
        }
      ],
      "source": [
        "np_2d.shape"
      ]
    },
    {
      "cell_type": "markdown",
      "metadata": {
        "id": "THr4CjADNOvC"
      },
      "source": [
        "Recuerda, si intentas introducir un valor de un tipo distinto, podrías estar alterando el tipo de todos los elementos en el arreglo"
      ]
    },
    {
      "cell_type": "code",
      "execution_count": null,
      "metadata": {
        "id": "lyZ-fyMMNOvC",
        "outputId": "013ab42e-ae99-47e8-a7f4-2039b8ecd9e1"
      },
      "outputs": [
        {
          "data": {
            "text/plain": [
              "array([['1.73', '1.68', '1.71', '1.89', '1.79'],\n",
              "       ['65.4', '59.2', '63.6', '88.4', '68.7']], dtype='<U32')"
            ]
          },
          "execution_count": 21,
          "metadata": {},
          "output_type": "execute_result"
        }
      ],
      "source": [
        "np.array([[1.73, 1.68, 1.71, 1.89, 1.79],\n",
        "[65.4, 59.2, 63.6, 88.4, \"68.7\"]])"
      ]
    },
    {
      "cell_type": "markdown",
      "metadata": {
        "id": "VLrsRsn7NOvD"
      },
      "source": [
        "## Muestreo en 2 dimensiones"
      ]
    },
    {
      "cell_type": "code",
      "execution_count": null,
      "metadata": {
        "id": "hLHaKEwmNOvD",
        "outputId": "f84325c6-921f-4e78-c39e-f503d82d9c24"
      },
      "outputs": [
        {
          "data": {
            "text/plain": [
              "array([1.73, 1.68, 1.71, 1.89, 1.79])"
            ]
          },
          "execution_count": 22,
          "metadata": {},
          "output_type": "execute_result"
        }
      ],
      "source": [
        "# Una fila completa\n",
        "np_2d[0]"
      ]
    },
    {
      "cell_type": "code",
      "execution_count": null,
      "metadata": {
        "id": "OLjTmBH2NOvD",
        "outputId": "c0e68f74-8f5c-45c8-db13-04e018c65794"
      },
      "outputs": [
        {
          "data": {
            "text/plain": [
              "1.71"
            ]
          },
          "execution_count": 23,
          "metadata": {},
          "output_type": "execute_result"
        }
      ],
      "source": [
        "# El elemento en la primera fila, segunda columna\n",
        "np_2d[0][2]"
      ]
    },
    {
      "cell_type": "code",
      "execution_count": null,
      "metadata": {
        "id": "5mrYGM7CNOvD",
        "outputId": "1079867b-6d7e-4998-d2a4-c6dc4f2e9539"
      },
      "outputs": [
        {
          "data": {
            "text/plain": [
              "1.71"
            ]
          },
          "execution_count": 24,
          "metadata": {},
          "output_type": "execute_result"
        }
      ],
      "source": [
        "# El elemento en la primera fila, segunda columna con notación de coma\n",
        "np_2d[0,2]"
      ]
    },
    {
      "cell_type": "code",
      "execution_count": null,
      "metadata": {
        "id": "dkaxkxUONOvD",
        "outputId": "aa8fa12a-c477-4632-fe66-d9d2d6cdeb13"
      },
      "outputs": [
        {
          "data": {
            "text/plain": [
              "array([[ 1.68,  1.71],\n",
              "       [59.2 , 63.6 ]])"
            ]
          },
          "execution_count": 25,
          "metadata": {},
          "output_type": "execute_result"
        }
      ],
      "source": [
        "# Los elementos de todas las filas pero en las columnas 1, 2\n",
        "np_2d[:,1:3]"
      ]
    },
    {
      "cell_type": "code",
      "execution_count": null,
      "metadata": {
        "id": "IBnsnMPlNOvE",
        "outputId": "1a3f4f6e-80a9-40c6-ba11-93ba052ed50e"
      },
      "outputs": [
        {
          "data": {
            "text/plain": [
              "array([65.4, 59.2, 63.6, 88.4, 68.7])"
            ]
          },
          "execution_count": 27,
          "metadata": {},
          "output_type": "execute_result"
        }
      ],
      "source": [
        "# Los elementos de la segunda fila pero todas las columnas (¿no te suena familiar?)\n",
        "np_2d[1,:]"
      ]
    },
    {
      "cell_type": "markdown",
      "metadata": {
        "id": "pnDt44IeNOvE"
      },
      "source": [
        "## Estadística básica con Numpy"
      ]
    },
    {
      "cell_type": "markdown",
      "metadata": {
        "id": "aBodwUzONOvE"
      },
      "source": [
        "FIFA nos ha proveído amablemente de una base de datos con todo tipo de métricas acerca de jugadores en todos los equipos del mundo. Nosotros, la hemos pedido pues tenemos una corazonada: Creemos que los jugadores que juegan en la posición de portero, tienen en general una estatura mayor que el resto de jugadores, pero nadie nos cree :("
      ]
    },
    {
      "cell_type": "markdown",
      "metadata": {
        "id": "swJc2H1YNOvE"
      },
      "source": [
        "Utilizaremos [estos datos](https://assets.datacamp.com/production/repositories/288/datasets/026a5211b906ac118a09b1a0dbf7df48faafb379/fifa.csv) para comprobarlo:"
      ]
    },
    {
      "cell_type": "code",
      "execution_count": null,
      "metadata": {
        "id": "jLbnoQSENOvE",
        "outputId": "05c9c23b-861a-4375-aa14-ddc871b2c17f"
      },
      "outputs": [
        {
          "data": {
            "text/plain": [
              "Index(['id', ' name', ' rating', ' position', ' height', ' foot', ' rare',\n",
              "       ' pace', ' shooting', ' passing', ' dribbling', ' defending',\n",
              "       ' heading', ' diving', ' handling', ' kicking', ' reflexes', ' speed',\n",
              "       ' positioning'],\n",
              "      dtype='object')"
            ]
          },
          "execution_count": 42,
          "metadata": {},
          "output_type": "execute_result"
        }
      ],
      "source": [
        "# Importamos nuestros datos\n",
        "import pandas as pd\n",
        "data = pd.read_csv(\"https://assets.datacamp.com/production/repositories/288/datasets/026a5211b906ac118a09b1a0dbf7df48faafb379/fifa.csv\") \n",
        "# Mostramos las columnas con las que contamos \n",
        "data.columns"
      ]
    },
    {
      "cell_type": "code",
      "execution_count": null,
      "metadata": {
        "id": "8Ek4IywvNOvF",
        "outputId": "0f050e2b-42d2-4b87-967e-a92fe36b8b4d"
      },
      "outputs": [
        {
          "data": {
            "text/plain": [
              "array([' GK', ' M', ' A', ..., ' D', ' D', ' M'], dtype=object)"
            ]
          },
          "execution_count": 46,
          "metadata": {},
          "output_type": "execute_result"
        }
      ],
      "source": [
        "# Convertimos las columnas a Numpy Arrays\n",
        "np_positions = np.array(data[' position'])\n",
        "np_heights = np.array(data[' height'])\n",
        "np_positions"
      ]
    },
    {
      "cell_type": "code",
      "execution_count": null,
      "metadata": {
        "id": "l31GBOquNOvF"
      },
      "outputs": [],
      "source": [
        "# Heights de los goalkeepers (porteros): gk_heights\n",
        "gk_heights = np_heights[np_positions == ' GK']\n",
        "\n",
        "# Heights de los demás jugadores: other_heights\n",
        "other_heights = np_heights[np_positions != ' GK']"
      ]
    },
    {
      "cell_type": "markdown",
      "metadata": {
        "id": "UJEJkmUNNOvF"
      },
      "source": [
        "![image.png](attachment:3bcdfa22-e289-440b-aae7-501ad25f6e41.png)"
      ]
    },
    {
      "cell_type": "code",
      "execution_count": null,
      "metadata": {
        "id": "bYKV8oN2NOvF",
        "outputId": "88b711f2-4f28-4f52-e9ce-a788f75227d7"
      },
      "outputs": [
        {
          "name": "stdout",
          "output_type": "stream",
          "text": [
            "Median height of goalkeepers: 188.0\n",
            "Median height of other players: 181.0\n"
          ]
        }
      ],
      "source": [
        "# Vamos a imprimir la mediana en la estatura de los porteros. Replace 'None'\n",
        "print(\"Median height of goalkeepers: \" + str(np.median(gk_heights)))\n",
        "\n",
        "# Print out the median height of other players. Replace 'None'\n",
        "print(\"Median height of other players: \" + str(np.median(other_heights)))"
      ]
    },
    {
      "cell_type": "markdown",
      "metadata": {
        "id": "kGdWN4tUNOvF"
      },
      "source": [
        "# Enlaces:"
      ]
    },
    {
      "cell_type": "markdown",
      "metadata": {
        "id": "RJ6bzbnXNOvG"
      },
      "source": [
        "Si tienes dudas sobre el uso de Markdown, puedes consultar el siguiente [link](https://github.com/adam-p/markdown-here/wiki/Markdown-Cheatsheet)"
      ]
    }
  ],
  "metadata": {
    "kernelspec": {
      "display_name": "Python 3",
      "language": "python",
      "name": "python3"
    },
    "language_info": {
      "codemirror_mode": {
        "name": "ipython",
        "version": 3
      },
      "file_extension": ".py",
      "mimetype": "text/x-python",
      "name": "python",
      "nbconvert_exporter": "python",
      "pygments_lexer": "ipython3",
      "version": "3.8.5"
    },
    "colab": {
      "name": "numpy.ipynb",
      "provenance": []
    }
  },
  "nbformat": 4,
  "nbformat_minor": 0
}